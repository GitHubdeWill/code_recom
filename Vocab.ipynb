{
 "cells": [
  {
   "cell_type": "code",
   "execution_count": 2,
   "metadata": {},
   "outputs": [],
   "source": [
    "from collections import defaultdict, Counter\n",
    "\n",
    "DATA_PATH = \"/home/wtemp/585/dataset/\""
   ]
  },
  {
   "cell_type": "code",
   "execution_count": 10,
   "metadata": {
    "scrolled": true
   },
   "outputs": [
    {
     "name": "stdout",
     "output_type": "stream",
     "text": [
      "6276777\n",
      "62767\n",
      "125534\n",
      "188301\n",
      "251068\n",
      "313835\n",
      "376602\n",
      "439369\n",
      "502136\n",
      "564903\n",
      "627670\n",
      "690437\n",
      "753204\n",
      "815971\n",
      "878738\n",
      "941505\n",
      "1004272\n",
      "1067039\n",
      "1129806\n",
      "1192573\n",
      "1255340\n",
      "1318107\n",
      "1380874\n",
      "1443641\n",
      "1506408\n",
      "1569175\n",
      "1631942\n",
      "1694709\n",
      "1757476\n",
      "1820243\n",
      "1883010\n",
      "1945777\n",
      "2008544\n",
      "2071311\n",
      "2134078\n",
      "2196845\n",
      "2259612\n",
      "2322379\n",
      "2385146\n",
      "2447913\n",
      "2510680\n",
      "2573447\n",
      "2636214\n",
      "2698981\n",
      "2761748\n",
      "2824515\n",
      "2887282\n",
      "2950049\n",
      "3012816\n",
      "3075583\n",
      "3138350\n",
      "3201117\n",
      "3263884\n",
      "3326651\n",
      "3389418\n",
      "3452185\n",
      "3514952\n",
      "3577719\n",
      "3640486\n",
      "3703253\n",
      "3766020\n",
      "3828787\n",
      "3891554\n",
      "3954321\n",
      "4017088\n",
      "4079855\n",
      "4142622\n",
      "4205389\n",
      "4268156\n",
      "4330923\n",
      "4393690\n",
      "4456457\n",
      "4519224\n",
      "4581991\n",
      "4644758\n",
      "4707525\n",
      "4770292\n",
      "4833059\n",
      "4895826\n",
      "4958593\n",
      "5021360\n",
      "5084127\n",
      "5146894\n",
      "5209661\n",
      "5272428\n",
      "5335195\n",
      "5397962\n",
      "5460729\n",
      "5523496\n",
      "5586263\n",
      "5649030\n",
      "5711797\n",
      "5774564\n",
      "5837331\n",
      "5900098\n",
      "5962865\n",
      "6025632\n",
      "6088399\n",
      "6151166\n",
      "6213933\n",
      "6276700\n"
     ]
    }
   ],
   "source": [
    "count = 0\n",
    "with open(DATA_PATH + \"allPyPrograms.txt\", \"r\") as file:\n",
    "    lines = file.readlines()\n",
    "    print(len(lines))\n",
    "    \n",
    "    bow = defaultdict(float)\n",
    "    for line in lines:\n",
    "        count += 1\n",
    "        if count%(len(lines)//100) == 0:\n",
    "#             pass\n",
    "            print(count)\n",
    "        tokens = line.split()\n",
    "        lowered_tokens = map(lambda t: t.lower(), tokens)\n",
    "        for token in lowered_tokens:\n",
    "            bow[token] += 1.0\n"
   ]
  },
  {
   "cell_type": "code",
   "execution_count": 11,
   "metadata": {},
   "outputs": [],
   "source": [
    "from pprint import pprint"
   ]
  },
  {
   "cell_type": "code",
   "execution_count": 18,
   "metadata": {},
   "outputs": [
    {
     "name": "stdout",
     "output_type": "stream",
     "text": [
      "2623904\n"
     ]
    }
   ],
   "source": [
    "pprint(len(bow))"
   ]
  },
  {
   "cell_type": "code",
   "execution_count": 15,
   "metadata": {},
   "outputs": [],
   "source": [
    "import collections\n",
    "sorted_dict = collections.OrderedDict()\n",
    "temp = sorted(bow.items(), key=lambda v : v[1], reverse=True)\n",
    "for i in temp:\n",
    "    sorted_dict[i[0]] = i[1]"
   ]
  },
  {
   "cell_type": "code",
   "execution_count": 16,
   "metadata": {},
   "outputs": [
    {
     "name": "stdout",
     "output_type": "stream",
     "text": [
      "= 1102052.0\n",
      "if 365770.0\n",
      "def 337306.0\n",
      "the 311874.0\n",
      "return 236356.0\n",
      "in 215240.0\n",
      "[], 187707.0\n",
      "{ 186493.0\n",
      "import 180645.0\n",
      "for 177423.0\n",
      "is 150682.0\n",
      "from 147667.0\n",
      "to 146955.0\n",
      "not 141306.0\n",
      "a 135548.0\n",
      "== 121126.0\n",
      "of 120554.0\n",
      "and 109359.0\n",
      "- 100111.0\n",
      "with 91599.0\n",
      "\"\"\" 91477.0\n",
      "# 82537.0\n",
      "assert 70992.0\n",
      "''' 69443.0\n",
      "or 69361.0\n",
      "as 69085.0\n",
      "} 68515.0\n",
      ") 67877.0\n",
      "class 65259.0\n",
      "else: 62772.0\n"
     ]
    }
   ],
   "source": [
    "for i in range(30):\n",
    "    print(list(sorted_dict.keys())[i], list(sorted_dict.values())[i])"
   ]
  },
  {
   "cell_type": "code",
   "execution_count": 22,
   "metadata": {},
   "outputs": [],
   "source": [
    "import math\n",
    "import operator\n",
    "x = []\n",
    "y = []\n",
    "X_LABEL = \"log(rank)\"\n",
    "Y_LABEL = \"log(frequency)\"\n",
    "\n",
    "# implement me! you should fill the x and y arrays. Add your code here\n",
    "c = 0\n",
    "dtemp = list(sorted_dict.keys())\n",
    "for word in bow.keys():\n",
    "    c += 1\n",
    "    if c > 1000:\n",
    "        if c%1000 is not 0:\n",
    "            continue\n",
    "    x.append(math.log(dtemp.index(word)+1))\n",
    "    y.append(math.log(bow[word]))"
   ]
  },
  {
   "cell_type": "code",
   "execution_count": 21,
   "metadata": {},
   "outputs": [
    {
     "data": {
      "image/png": "[encoded data removed]",
      "text/plain": [
       "<Figure size 432x288 with 1 Axes>"
      ]
     },
     "metadata": {
      "needs_background": "light"
     },
     "output_type": "display_data"
    }
   ],
   "source": [
    "from matplotlib import pyplot as plt\n",
    "plt.scatter(x, y)\n",
    "plt.xlabel(X_LABEL)\n",
    "plt.ylabel(Y_LABEL)\n",
    "plt.show()"
   ]
  },
  {
   "cell_type": "code",
   "execution_count": null,
   "metadata": {},
   "outputs": [],
   "source": []
  }
 ],
 "metadata": {
  "kernelspec": {
   "display_name": "Python 3",
   "language": "python",
   "name": "python3"
  },
  "language_info": {
   "codemirror_mode": {
    "name": "ipython",
    "version": 3
   },
   "file_extension": ".py",
   "mimetype": "text/x-python",
   "name": "python",
   "nbconvert_exporter": "python",
   "pygments_lexer": "ipython3",
   "version": "3.7.0"
  }
 },
 "nbformat": 4,
 "nbformat_minor": 2
}
