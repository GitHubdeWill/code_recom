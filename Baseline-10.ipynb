{
 "cells": [
  {
   "cell_type": "code",
   "execution_count": 13,
   "metadata": {
    "scrolled": true
   },
   "outputs": [
    {
     "name": "stdout",
     "output_type": "stream",
     "text": [
      "single word finished\n",
      "bi gram word finished\n"
     ]
    }
   ],
   "source": [
    "# -*- coding: utf-8 -*-\n",
    "# bi-gram模型\n",
    "\n",
    "import os\n",
    "import sys\n",
    "import numpy as np\n",
    "\n",
    "# 将原始数据中的单词存入array\n",
    "filename = os.getcwd() + \"/allPyPrograms_no_comments.txt\"\n",
    "data = []\n",
    "\n",
    "with open(filename,'r') as f:\n",
    "    for line in f:\n",
    "        for word in line.split():\n",
    "            data.append(word) \n",
    "\n",
    "# 统计每个token的个数\n",
    "words = set(data)\n",
    "bow = {}\n",
    "for w in words:\n",
    "    bow[w] = 0\n",
    "for w in data:\n",
    "    bow[w] += 1\n",
    "print(\"single word finished\")\n",
    "\n",
    "# 二元单词的部分\n",
    "bi_data = []\n",
    "bi_grams = {}\n",
    "\n",
    "# 先把原生数据转换成二元数据，比如【“a“，”b“，”c“】就会转化成【”ab“，”bc“】\n",
    "# 再统计每个二元单词出现的次数\n",
    "for i in range(len(data) - 1):\n",
    "    bi_data.append(str(data[i])+ \" \" + str(data[i + 1]))\n",
    "    \n",
    "bi_words = set(bi_data)\n",
    "\n",
    "for w in bi_words:\n",
    "    bi_grams[w] = 0\n",
    "    \n",
    "for w in bi_data:\n",
    "    bi_grams[w] += 1\n",
    "\n",
    "print(\"bi gram word finished\")\n",
    "\n",
    "# 新建一个存放训练数据的字典\n",
    "P_table = {}\n",
    "keys = bi_grams.keys()\n",
    "print(len(data))\n",
    "print(len(list(bi_words)))\n",
    "\n",
    "# 对于每个一元单词，找到它的最佳下一个单词\n",
    "for w in list(words):\n",
    "    best_choice = [\"No sample\", 0]\n",
    "    for item in list(words):\n",
    "        s = str(w) + \" \" + str(item)\n",
    "        if s in keys:\n",
    "            if bi_grams[s] > best_choice[1]:\n",
    "                best_choice = [s, bi_grams[s]]\n",
    "    P_table[w] = best_choice\n",
    "\n",
    "print(\"train finished\")\n",
    "\n",
    "# 给定一个单词，返回它自身和它的下一个最有可能的单词\n",
    "def bi_gram_predict(word):\n",
    "    print(P_table[word][0])\n",
    "\n",
    "bi_gram_predict(\"a\")\n"
   ]
  },
  {
   "cell_type": "code",
   "execution_count": null,
   "metadata": {},
   "outputs": [],
   "source": []
  },
  {
   "cell_type": "code",
   "execution_count": null,
   "metadata": {},
   "outputs": [],
   "source": []
  }
 ],
 "metadata": {
  "kernelspec": {
   "display_name": "Python 3",
   "language": "python",
   "name": "python3"
  },
  "language_info": {
   "codemirror_mode": {
    "name": "ipython",
    "version": 3
   },
   "file_extension": ".py",
   "mimetype": "text/x-python",
   "name": "python",
   "nbconvert_exporter": "python",
   "pygments_lexer": "ipython3",
   "version": "3.6.6"
  }
 },
 "nbformat": 4,
 "nbformat_minor": 2
}
