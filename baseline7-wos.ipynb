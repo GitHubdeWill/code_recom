{
 "cells": [
  {
   "cell_type": "code",
   "execution_count": 1,
   "metadata": {},
   "outputs": [],
   "source": [
    "import numpy as np\n",
    "\n",
    "DATA_PATH = \"/home/wtemp/585/\"\n",
    "from pprint import pprint\n",
    "import operator\n"
   ]
  },
  {
   "cell_type": "code",
   "execution_count": 2,
   "metadata": {
    "scrolled": true
   },
   "outputs": [
    {
     "name": "stdout",
     "output_type": "stream",
     "text": [
      "3401829\n"
     ]
    }
   ],
   "source": [
    "# Read Data\n",
    "count = 0\n",
    "file = open(DATA_PATH + \"allPyPrograms_no_comments.txt\", \"r\")\n",
    "\n",
    "lines = file.readlines()\n",
    "print(len(lines))"
   ]
  },
  {
   "cell_type": "code",
   "execution_count": 3,
   "metadata": {},
   "outputs": [],
   "source": [
    "# Saves (first letter, second letter) : count\n",
    "gram = {}\n",
    "entries = set([])"
   ]
  },
  {
   "cell_type": "code",
   "execution_count": 4,
   "metadata": {
    "scrolled": true
   },
   "outputs": [
    {
     "name": "stdout",
     "output_type": "stream",
     "text": [
      "68036\n",
      "136072\n",
      "204108\n",
      "272144\n",
      "340180\n",
      "408216\n",
      "476252\n",
      "544288\n",
      "612324\n",
      "680360\n",
      "748396\n",
      "816432\n",
      "884468\n",
      "952504\n",
      "1020540\n",
      "1088576\n",
      "1156612\n",
      "1224648\n",
      "1292684\n",
      "1360720\n",
      "1428756\n",
      "1496792\n",
      "1564828\n",
      "1632864\n",
      "1700900\n",
      "1768936\n",
      "1836972\n",
      "1905008\n",
      "1973044\n",
      "2041080\n",
      "2109116\n",
      "2177152\n",
      "2245188\n",
      "2313224\n",
      "2381260\n",
      "2449296\n",
      "2517332\n",
      "2585368\n",
      "2653404\n",
      "2721440\n",
      "2789476\n",
      "2857512\n",
      "2925548\n",
      "2993584\n",
      "3061620\n",
      "3129656\n",
      "3197692\n",
      "3265728\n",
      "3333764\n",
      "3401800\n"
     ]
    }
   ],
   "source": [
    "count = 0\n",
    "for line in lines:\n",
    "    count += 1\n",
    "    if count%(len(lines)//50) == 0:\n",
    "        print(count)\n",
    "    for i in range(len(line)-1):\n",
    "        \n",
    "        if (line[i], line[i+1]) in entries:\n",
    "            gram[(line[i], line[i+1])] += 1\n",
    "        else:\n",
    "            gram[(line[i], line[i+1])] = 1\n",
    "            entries.add((line[i], line[i+1]))"
   ]
  },
  {
   "cell_type": "code",
   "execution_count": 5,
   "metadata": {},
   "outputs": [
    {
     "name": "stdout",
     "output_type": "stream",
     "text": [
      "21448\n"
     ]
    }
   ],
   "source": [
    "pprint(len(gram))"
   ]
  },
  {
   "cell_type": "code",
   "execution_count": 6,
   "metadata": {},
   "outputs": [],
   "source": [
    "sorted_gram = sorted(gram.items(), key=operator.itemgetter(1))"
   ]
  },
  {
   "cell_type": "code",
   "execution_count": 7,
   "metadata": {},
   "outputs": [
    {
     "name": "stdout",
     "output_type": "stream",
     "text": [
      "[((':', '\\n'), 586736),\n",
      " ((' ', 'i'), 588962),\n",
      " (('m', 'e'), 597187),\n",
      " ((\"'\", ','), 601120),\n",
      " (('=', ' '), 614493),\n",
      " (('t', 'i'), 626291),\n",
      " (('l', 'e'), 661945),\n",
      " (('e', 't'), 664640),\n",
      " (('n', 't'), 665470),\n",
      " ((')', '\\n'), 693296),\n",
      " (('s', 't'), 705389),\n",
      " ((' ', 's'), 707220),\n",
      " (('e', 's'), 753855),\n",
      " (('e', 'n'), 764562),\n",
      " ((',', '\\n'), 796169),\n",
      " ((\"'\", ':'), 814803),\n",
      " (('o', 'r'), 822543),\n",
      " (('o', 'n'), 832629),\n",
      " (('a', 't'), 840387),\n",
      " (('i', 'n'), 843482),\n",
      " (('t', 'e'), 915552),\n",
      " (('r', 'e'), 941378),\n",
      " ((':', ' '), 983775),\n",
      " (('e', 'r'), 1006216),\n",
      " (('d', 'e'), 1020864),\n",
      " (('e', 'l'), 1342876),\n",
      " ((' ', \"'\"), 1388420),\n",
      " (('s', 'e'), 1472942),\n",
      " ((',', ' '), 1561765),\n",
      " ((' ', ' '), 30304994)]\n"
     ]
    }
   ],
   "source": [
    "pprint(sorted_gram[-30:])"
   ]
  },
  {
   "cell_type": "code",
   "execution_count": 37,
   "metadata": {},
   "outputs": [],
   "source": [
    "def recom_model(observed_seq):\n",
    "    # Get the last letter\n",
    "    last_item = observed_seq[-1]\n",
    "    word = \"\"\n",
    "    thresh = 100\n",
    "    while thresh > 0 and (len(word) < 1 or word[-1] != \" \"):\n",
    "        thresh -= 1\n",
    "        if len(word) > 100:\n",
    "            return word\n",
    "        for i in range(len(sorted_gram)-1, -1, -1):\n",
    "            if sorted_gram[i][0][0] == last_item:\n",
    "                word = word + sorted_gram[i][0][1]\n",
    "                last_item = sorted_gram[i][0][1]\n",
    "                break\n",
    "    return word"
   ]
  },
  {
   "cell_type": "code",
   "execution_count": 38,
   "metadata": {},
   "outputs": [
    {
     "data": {
      "text/plain": [
       "'.fintelelelelelelelelelelelelelelelelelelelelelelelelelelelelelelelelelelelelelelelelelelelelelelele'"
      ]
     },
     "execution_count": 38,
     "metadata": {},
     "output_type": "execute_result"
    }
   ],
   "source": [
    "recom_model(\"def b\")"
   ]
  },
  {
   "cell_type": "code",
   "execution_count": 39,
   "metadata": {},
   "outputs": [
    {
     "name": "stdout",
     "output_type": "stream",
     "text": [
      "(b'', b'')\n",
      "dummy.py  has no hole to predict\n",
      "(b'', b'')\n"
     ]
    },
    {
     "data": {
      "text/plain": [
       "(70, 8, 2)"
      ]
     },
     "execution_count": 39,
     "metadata": {},
     "output_type": "execute_result"
    }
   ],
   "source": [
    "import sys,os\n",
    "import subprocess\n",
    "import evalerr\n",
    "import sys\n",
    "\n",
    "\n",
    "# In[12]:\n",
    "\n",
    "\n",
    "TEST_DIR = '/home/wtemp/585/error/Test_Dataset/'\n",
    "\n",
    "HOLE = \"PREDICTION_HOLE_PLACEHOLDER\"\n",
    "\n",
    "PRED_DIR = \"/home/wtemp/585/error/Predicted_Results/\"\n",
    "result_dict={}\n",
    "\n",
    "evalerr.test(recom_model)"
   ]
  },
  {
   "cell_type": "code",
   "execution_count": null,
   "metadata": {},
   "outputs": [],
   "source": []
  }
 ],
 "metadata": {
  "kernelspec": {
   "display_name": "Python 3",
   "language": "python",
   "name": "python3"
  },
  "language_info": {
   "codemirror_mode": {
    "name": "ipython",
    "version": 3
   },
   "file_extension": ".py",
   "mimetype": "text/x-python",
   "name": "python",
   "nbconvert_exporter": "python",
   "pygments_lexer": "ipython3",
   "version": "3.6.6"
  }
 },
 "nbformat": 4,
 "nbformat_minor": 2
}
