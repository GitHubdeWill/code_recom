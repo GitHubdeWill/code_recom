{
 "cells": [
  {
   "cell_type": "code",
   "execution_count": 1,
   "metadata": {},
   "outputs": [],
   "source": [
    "import numpy as np\n",
    "\n",
    "DATA_PATH = \"/home/wtemp/585/\"\n",
    "from pprint import pprint\n",
    "import operator\n"
   ]
  },
  {
   "cell_type": "code",
   "execution_count": 2,
   "metadata": {
    "scrolled": true
   },
   "outputs": [
    {
     "name": "stdout",
     "output_type": "stream",
     "text": [
      "3401829\n"
     ]
    }
   ],
   "source": [
    "# Read Data\n",
    "count = 0\n",
    "file = open(DATA_PATH + \"allPyPrograms_no_comments.txt\", \"r\")\n",
    "\n",
    "lines = file.readlines()\n",
    "print(len(lines))"
   ]
  },
  {
   "cell_type": "code",
   "execution_count": 3,
   "metadata": {},
   "outputs": [],
   "source": [
    "# Saves (first letter, second letter) : count\n",
    "gram = {}\n",
    "entries = set([])"
   ]
  },
  {
   "cell_type": "code",
   "execution_count": 4,
   "metadata": {
    "scrolled": true
   },
   "outputs": [
    {
     "name": "stdout",
     "output_type": "stream",
     "text": [
      "68036\n",
      "136072\n",
      "204108\n",
      "272144\n",
      "340180\n",
      "408216\n",
      "476252\n",
      "544288\n",
      "612324\n",
      "680360\n",
      "748396\n",
      "816432\n",
      "884468\n",
      "952504\n",
      "1020540\n",
      "1088576\n",
      "1156612\n",
      "1224648\n",
      "1292684\n",
      "1360720\n",
      "1428756\n",
      "1496792\n",
      "1564828\n",
      "1632864\n",
      "1700900\n",
      "1768936\n",
      "1836972\n",
      "1905008\n",
      "1973044\n",
      "2041080\n",
      "2109116\n",
      "2177152\n",
      "2245188\n",
      "2313224\n",
      "2381260\n",
      "2449296\n",
      "2517332\n",
      "2585368\n",
      "2653404\n",
      "2721440\n",
      "2789476\n",
      "2857512\n",
      "2925548\n",
      "2993584\n",
      "3061620\n",
      "3129656\n",
      "3197692\n",
      "3265728\n",
      "3333764\n",
      "3401800\n"
     ]
    }
   ],
   "source": [
    "count = 0\n",
    "for line in lines:\n",
    "    count += 1\n",
    "    if count%(len(lines)//50) == 0:\n",
    "        print(count)\n",
    "    \n",
    "    words = line.split()\n",
    "    for i in range(len(words)-1):\n",
    "        \n",
    "        if (words[i], words[i+1]) in entries:\n",
    "            gram[(words[i], words[i+1])] += 1\n",
    "        else:\n",
    "            gram[(words[i], words[i+1])] = 1\n",
    "            entries.add((words[i], words[i+1]))"
   ]
  },
  {
   "cell_type": "code",
   "execution_count": 5,
   "metadata": {},
   "outputs": [
    {
     "name": "stdout",
     "output_type": "stream",
     "text": [
      "2566729\n"
     ]
    }
   ],
   "source": [
    "pprint(len(gram))"
   ]
  },
  {
   "cell_type": "code",
   "execution_count": 6,
   "metadata": {},
   "outputs": [],
   "source": [
    "sorted_gram = sorted(gram.items(), key=operator.itemgetter(1))"
   ]
  },
  {
   "cell_type": "code",
   "execution_count": 15,
   "metadata": {
    "scrolled": true
   },
   "outputs": [
    {
     "name": "stdout",
     "output_type": "stream",
     "text": [
      "[(('with', 'the'), 3121),\n",
      " ((\"'max_length':\", \"'32'\"), 3147),\n",
      " (('return', 'ret'), 3167),\n",
      " (('%s\"', '%'), 3181),\n",
      " ((\"'group':\", '('), 3197),\n",
      " (('-', 'The'), 3235),\n",
      " (('should', 'be'), 3245),\n",
      " ((\"'user':\", '('), 3266),\n",
      " (('from', 'the'), 3308),\n",
      " (('and', 'not'), 3356),\n",
      " (('number', 'of'), 3385),\n",
      " ((\"'project':\", \"('sentry.db.models.fields.foreignkey.FlexibleForeignKey',\"),\n",
      "  3398),\n",
      " ((\"'to':\", '\"orm[\\'sentry.User\\']\"'), 3401),\n",
      " ((\"'max_length':\", \"'64',\"), 3439),\n",
      " ((\"'max_length':\", \"'64'\"), 3473),\n",
      " (('salt', \"'*'\"), 3500),\n",
      " (('return', 'True'), 3579),\n",
      " (('is', 'a'), 3592),\n",
      " (('can', 'be'), 3599),\n",
      " (('=', '1'), 3643),\n",
      " ((\"'Meta':\", \"{'object_name':\"), 3664),\n",
      " (('=', '['), 3698),\n",
      " ((\"'key':\", \"('django.db.models.fields.CharField',\"), 3706),\n",
      " (('code-block::', 'bash'), 3724),\n",
      " ((\"'name':\", \"('django.db.models.fields.CharField',\"), 3815),\n",
      " (('expected', '='), 3896),\n",
      " ((\"'unique_together':\", '\"((\\'project\\','), 3945),\n",
      " (('on', 'the'), 4045),\n",
      " ((\"'True',\", \"'blank':\"), 4092),\n",
      " ((\"'db_index':\", \"'True'}),\"), 4112),\n",
      " ((\"'django.db.models.fields.CharField',\", '[],'), 4119),\n",
      " ((\"'default':\", \"'datetime.datetime.now',\"), 4198),\n",
      " (('data', '='), 4239),\n",
      " (('-', 'name:'), 4264),\n",
      " ((\"'django.db.models.fields.DateTimeField',\", '[],'), 4445),\n",
      " (('[],', '{})'), 4486),\n",
      " ((\"'to':\", '\"orm[\\'sentry.Project\\']\"'), 4501),\n",
      " ((\"'date_added':\", \"('django.db.models.fields.DateTimeField',\"), 4512),\n",
      " (('return', 'False'), 4552),\n",
      " (('for', 'i'), 4633),\n",
      " ((\"'default':\", \"'0'\"), 4707),\n",
      " ((\"('sentry.db.models.fields.bounded.BoundedBigIntegerField',\", '[],'), 4754),\n",
      " (('i', 'in'), 4757),\n",
      " ((\"'blank':\", \"'True'}),\"), 4855),\n",
      " (('must', 'be'), 4867),\n",
      " (('list', 'of'), 4948),\n",
      " ((\"{'null':\", \"'True'}),\"), 5034),\n",
      " ((\"'unique':\", \"'True',\"), 5074),\n",
      " (('ret', '='), 5099),\n",
      " ((\"('django.db.models.fields.BooleanField',\", '[],'), 5150),\n",
      " (('to', 'be'), 5259),\n",
      " (('..', 'code-block::'), 5509),\n",
      " (('for', 'the'), 5677),\n",
      " (('will', 'be'), 5780),\n",
      " ((\"'project':\", '('), 6034),\n",
      " (('from', '__future__'), 6121),\n",
      " (('__future__', 'import'), 6150),\n",
      " ((\"('django.db.models.fields.TextField',\", '[],'), 6488),\n",
      " (('def', '__init__(self,'), 6533),\n",
      " ((\"{'default':\", \"'datetime.datetime.now'}),\"), 6645),\n",
      " (('not', 'in'), 6859),\n",
      " (('=', '{}'), 6872),\n",
      " (('=', '0'), 7060),\n",
      " (('=', '{'), 7112),\n",
      " (('not', 'None:'), 7146),\n",
      " ((\"'null':\", \"'True'}),\"), 7709),\n",
      " (('[],', '{}),'), 7776),\n",
      " ((\"'default':\", \"'datetime.datetime.now'\"), 7822),\n",
      " ((\"'blank':\", \"'True'\"), 7983),\n",
      " (('is', 'None:'), 8048),\n",
      " (('=', 'False'), 8155),\n",
      " ((\"'Meta':\", \"{'unique_together':\"), 8156),\n",
      " (('in', 'the'), 8252),\n",
      " ((\"'db_index':\", \"'True'\"), 8364),\n",
      " (('[],', \"{'null':\"), 8696),\n",
      " (('result', '='), 8723),\n",
      " (('to', 'the'), 9101),\n",
      " (('=', '[]'), 9504),\n",
      " (('=', 'True'), 9723),\n",
      " ((\"'id':\", \"('sentry.db.models.fields.bounded.BoundedBigAutoField',\"), 11493),\n",
      " ((\"{'primary_key':\", \"'True'}),\"), 11523),\n",
      " (('[],', \"{'primary_key':\"), 11820),\n",
      " (('=', 'None'), 12280),\n",
      " ((\"'null':\", \"'True',\"), 13018),\n",
      " (('[],', \"{'to':\"), 13180),\n",
      " ((\"'null':\", \"'True'\"), 13421),\n",
      " (('[],', \"{'max_length':\"), 13794),\n",
      " ((\"('sentry.db.models.fields.foreignkey.FlexibleForeignKey',\", '[],'), 15140),\n",
      " ((\"'Meta':\", '{'), 15221),\n",
      " ((\"'primary_key':\", \"'True'\"), 15221),\n",
      " ((\"('sentry.db.models.fields.bounded.BoundedPositiveIntegerField',\", '[],'),\n",
      "  15754),\n",
      " (('is', 'not'), 16369),\n",
      " ((\"'sentry.db.models.fields.foreignkey.FlexibleForeignKey',\", '[],'), 17226),\n",
      " (('of', 'the'), 18079),\n",
      " (('[],', \"{'default':\"), 20658),\n",
      " ((\"('django.db.models.fields.DateTimeField',\", '[],'), 21522),\n",
      " (('if', 'not'), 21581),\n",
      " ((\"('sentry.db.models.fields.bounded.BoundedBigAutoField',\", '[],'), 25489),\n",
      " ((\"('django.db.models.fields.CharField',\", '[],'), 28451),\n",
      " (('[],', '{'), 94939)]\n"
     ]
    }
   ],
   "source": [
    "pprint(sorted_gram[-100:])"
   ]
  },
  {
   "cell_type": "code",
   "execution_count": 16,
   "metadata": {},
   "outputs": [],
   "source": [
    "import pickle\n",
    "# pickle."
   ]
  },
  {
   "cell_type": "code",
   "execution_count": 11,
   "metadata": {},
   "outputs": [],
   "source": [
    "def recom_model(observed_seq):\n",
    "    # Get the last word\n",
    "    last_item = observed_seq.split()[-1]\n",
    "    # Try direct comparison\n",
    "    for i in range(len(sorted_gram)-1, -1, -1):\n",
    "        if sorted_gram[i][0][0] == last_item:\n",
    "            return sorted_gram[i][0][1]\n",
    "    # Try contains\n",
    "    for i in range(len(sorted_gram)-1, -1, -1):\n",
    "        if sorted_gram[i][0][0] in last_item or last_item in sorted_gram[i][0][0]:\n",
    "            return sorted_gram[i][0][1]\n",
    "    return \"NOVALIDREC\""
   ]
  },
  {
   "cell_type": "code",
   "execution_count": 14,
   "metadata": {},
   "outputs": [
    {
     "data": {
      "text/plain": [
       "'None'"
      ]
     },
     "execution_count": 14,
     "metadata": {},
     "output_type": "execute_result"
    }
   ],
   "source": [
    "recom_model(\"b=\")"
   ]
  },
  {
   "cell_type": "code",
   "execution_count": 12,
   "metadata": {},
   "outputs": [
    {
     "name": "stdout",
     "output_type": "stream",
     "text": [
      "(b'', b'')\n",
      "dummy.py  has no hole to predict\n",
      "(b'', b'')\n"
     ]
    },
    {
     "data": {
      "text/plain": [
       "(70, 6, 2)"
      ]
     },
     "execution_count": 12,
     "metadata": {},
     "output_type": "execute_result"
    }
   ],
   "source": [
    "import sys,os\n",
    "import subprocess\n",
    "import evalerr\n",
    "import sys\n",
    "\n",
    "\n",
    "# In[12]:\n",
    "\n",
    "\n",
    "TEST_DIR = '/home/wtemp/585/error/Test_Dataset/'\n",
    "\n",
    "HOLE = \"PREDICTION_HOLE_PLACEHOLDER\"\n",
    "\n",
    "PRED_DIR = \"/home/wtemp/585/error/Predicted_Results/\"\n",
    "result_dict={}\n",
    "\n",
    "evalerr.test(recom_model)"
   ]
  },
  {
   "cell_type": "code",
   "execution_count": null,
   "metadata": {},
   "outputs": [],
   "source": []
  }
 ],
 "metadata": {
  "kernelspec": {
   "display_name": "Python 3",
   "language": "python",
   "name": "python3"
  },
  "language_info": {
   "codemirror_mode": {
    "name": "ipython",
    "version": 3
   },
   "file_extension": ".py",
   "mimetype": "text/x-python",
   "name": "python",
   "nbconvert_exporter": "python",
   "pygments_lexer": "ipython3",
   "version": "3.6.6"
  }
 },
 "nbformat": 4,
 "nbformat_minor": 2
}
