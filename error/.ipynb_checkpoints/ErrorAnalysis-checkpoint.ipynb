{
 "cells": [
  {
   "cell_type": "code",
   "execution_count": 32,
   "metadata": {},
   "outputs": [
    {
     "ename": "TypeError",
     "evalue": "the 'package' argument is required to perform a relative import for './Predicted_Results/test_sample3_5_result.py'",
     "output_type": "error",
     "traceback": [
      "\u001b[0;31m-------------------------------------\u001b[0m",
      "\u001b[0;31mTypeError\u001b[0mTraceback (most recent call last)",
      "\u001b[0;32m<ipython-input-32-adca6e61dcca>\u001b[0m in \u001b[0;36m<module>\u001b[0;34m\u001b[0m\n\u001b[1;32m     37\u001b[0m     \u001b[0;32mtry\u001b[0m\u001b[0;34m:\u001b[0m\u001b[0;34m\u001b[0m\u001b[0m\n\u001b[1;32m     38\u001b[0m \u001b[0;34m\u001b[0m\u001b[0m\n\u001b[0;32m---> 39\u001b[0;31m         \u001b[0mimportlib\u001b[0m\u001b[0;34m.\u001b[0m\u001b[0mimport_module\u001b[0m\u001b[0;34m(\u001b[0m\u001b[0mprediction_dir\u001b[0m\u001b[0;34m+\u001b[0m\u001b[0mresult_filename\u001b[0m\u001b[0;34m)\u001b[0m\u001b[0;34m\u001b[0m\u001b[0m\n\u001b[0m\u001b[1;32m     40\u001b[0m \u001b[0;34m\u001b[0m\u001b[0m\n\u001b[1;32m     41\u001b[0m \u001b[0;31m#         py_compile.compile(prediction_dir+result_filename)\u001b[0m\u001b[0;34m\u001b[0m\u001b[0;34m\u001b[0m\u001b[0m\n",
      "\u001b[0;32m~/anaconda3/lib/python3.6/importlib/__init__.py\u001b[0m in \u001b[0;36mimport_module\u001b[0;34m(name, package)\u001b[0m\n\u001b[1;32m    119\u001b[0m             msg = (\"the 'package' argument is required to perform a relative \"\n\u001b[1;32m    120\u001b[0m                    \"import for {!r}\")\n\u001b[0;32m--> 121\u001b[0;31m             \u001b[0;32mraise\u001b[0m \u001b[0mTypeError\u001b[0m\u001b[0;34m(\u001b[0m\u001b[0mmsg\u001b[0m\u001b[0;34m.\u001b[0m\u001b[0mformat\u001b[0m\u001b[0;34m(\u001b[0m\u001b[0mname\u001b[0m\u001b[0;34m)\u001b[0m\u001b[0;34m)\u001b[0m\u001b[0;34m\u001b[0m\u001b[0m\n\u001b[0m\u001b[1;32m    122\u001b[0m         \u001b[0;32mfor\u001b[0m \u001b[0mcharacter\u001b[0m \u001b[0;32min\u001b[0m \u001b[0mname\u001b[0m\u001b[0;34m:\u001b[0m\u001b[0;34m\u001b[0m\u001b[0m\n\u001b[1;32m    123\u001b[0m             \u001b[0;32mif\u001b[0m \u001b[0mcharacter\u001b[0m \u001b[0;34m!=\u001b[0m \u001b[0;34m'.'\u001b[0m\u001b[0;34m:\u001b[0m\u001b[0;34m\u001b[0m\u001b[0m\n",
      "\u001b[0;31mTypeError\u001b[0m: the 'package' argument is required to perform a relative import for './Predicted_Results/test_sample3_5_result.py'"
     ]
    }
   ],
   "source": [
    "import sys,os\n",
    "import py_compile\n",
    "import importlib\n",
    "\n",
    "HOLE = \"PREDICTION_HOLE_PLACEHOLDER\"\n",
    "testset_dir = \"./Test_Dataset/\"\n",
    "prediction_dir = \"./Predicted_Results/\"\n",
    "result_dict={}\n",
    "\n",
    "def write_result(path, file_name,res):\n",
    "    with open(path+file_name, 'w') as f:\n",
    "        f.write(res)\n",
    "\n",
    "# def predict_and_compile():\n",
    "HOLE = \"PREDICTION_HOLE_PLACEHOLDER\"\n",
    "testset_dir = \"./Test_Dataset/\"\n",
    "prediction_dir = \"./Predicted_Results/\"\n",
    "for file in os.listdir(testset_dir):\n",
    "    if(\"test_sample\" in file and \"original\" in file):\n",
    "        continue\n",
    "    if(file==\".ipynb_checkpoints\"):\n",
    "        continue\n",
    "    if(\"pycache\" in file):\n",
    "        continue\n",
    "    f = open(testset_dir+file)\n",
    "    context = f.read()\n",
    "    seen = context.split(HOLE)[0]\n",
    "    prediction = \"x\" \n",
    "    if(HOLE not in context):\n",
    "        print(file,\" has no hole to predict\")\n",
    "        continue\n",
    "    if(context.count(HOLE)>1): # test data only contain 1 hole now, change later\n",
    "        continue\n",
    "    result = context.replace(HOLE, prediction)\n",
    "    result_filename = file.replace(\".\",\"_result.\")\n",
    "    write_result(prediction_dir,result_filename,result)\n",
    "    try:\n",
    "        \n",
    "        importlib.import_module(\"Predicted_Results/\"+result_filename)\n",
    "        \n",
    "#         py_compile.compile(prediction_dir+result_filename)\n",
    "        result_f = open(prediction_dir+result_filename)\n",
    "        ## exec ?? ##\n",
    "        print(\"Prediction for \",file,\" is valid\")\n",
    "        result_dict[file]=\"VALID\"\n",
    "    except SyntaxError: \n",
    "        print(\"Prediction for \",file,\" is invalid\")\n",
    "        result_dict[file]=\"INVALID\"\n",
    "        print(\"invalid\")\n",
    "\n",
    "# predict_and_compile()\n",
    "            \n",
    "# py_compile.compile(testset_dir+\"dummy.py\")\n",
    "# f = open(testset_dir+\"dummy.py\")\n",
    "\n",
    "\n",
    "# try:\n",
    "#     exec(result)\n",
    "# except:\n",
    "#     print(\"invalid\")\n",
    "    \n",
    "\n",
    "\n"
   ]
  },
  {
   "cell_type": "code",
   "execution_count": null,
   "metadata": {},
   "outputs": [],
   "source": []
  },
  {
   "cell_type": "code",
   "execution_count": null,
   "metadata": {},
   "outputs": [],
   "source": []
  },
  {
   "cell_type": "code",
   "execution_count": null,
   "metadata": {},
   "outputs": [],
   "source": []
  }
 ],
 "metadata": {
  "kernelspec": {
   "display_name": "Python 3",
   "language": "python",
   "name": "python3"
  },
  "language_info": {
   "codemirror_mode": {
    "name": "ipython",
    "version": 3
   },
   "file_extension": ".py",
   "mimetype": "text/x-python",
   "name": "python",
   "nbconvert_exporter": "python",
   "pygments_lexer": "ipython3",
   "version": "3.6.6"
  }
 },
 "nbformat": 4,
 "nbformat_minor": 2
}
