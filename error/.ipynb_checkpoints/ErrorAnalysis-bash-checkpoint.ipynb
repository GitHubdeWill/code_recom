{
 "cells": [
  {
   "cell_type": "code",
   "execution_count": 52,
   "metadata": {},
   "outputs": [],
   "source": [
    "import sys,os\n",
    "import py_compile\n",
    "import importlib\n",
    "import subprocess as sp\n",
    "import random\n",
    "\n",
    "import sys"
   ]
  },
  {
   "cell_type": "code",
   "execution_count": 12,
   "metadata": {},
   "outputs": [],
   "source": [
    "TEST_DIR = './Test_Dataset/'\n",
    "\n",
    "HOLE = \"PREDICTION_HOLE_PLACEHOLDER\"\n",
    "\n",
    "PRED_DIR = \"./Predicted_Results/\"\n",
    "result_dict={}"
   ]
  },
  {
   "cell_type": "code",
   "execution_count": 53,
   "metadata": {},
   "outputs": [],
   "source": [
    "def write_result(path, res):\n",
    "    with open(path, 'a+') as f:\n",
    "        f.write(res)\n",
    "\n",
    "def sample(s):\n",
    "    return random.choice(\"1234567890qwertyuiopasdfghjklzxcvbnm,.:-+=\")"
   ]
  },
  {
   "cell_type": "code",
   "execution_count": 54,
   "metadata": {},
   "outputs": [],
   "source": [
    "# Param: the eval function\n",
    "def test(eval_func):\n",
    "    count = 0\n",
    "    compiled = 0\n",
    "    correct = 0\n",
    "    for file in os.listdir(TEST_DIR):\n",
    "        count += 1\n",
    "#         print(count)\n",
    "        if(\"test_sample\" in file and \"original\" in file):\n",
    "            continue\n",
    "        if(file==\".ipynb_checkpoints\"):\n",
    "            continue\n",
    "        if(\"pycache\" in file):\n",
    "            continue\n",
    "        \n",
    "        # Read file\n",
    "#         print(\"Openning \"+TEST_DIR+file)\n",
    "        f = open(TEST_DIR+file)\n",
    "        context = f.read()\n",
    "        seen = context.split(HOLE)[0]\n",
    "        prediction = \"x\" \n",
    "        \n",
    "        if(HOLE not in context):\n",
    "            print(file,\" has no hole to predict\")\n",
    "            continue\n",
    "        if(context.count(HOLE)>1): # test data only contain 1 hole now, change later\n",
    "            continue\n",
    "        \n",
    "        prediction = eval_func(seen)\n",
    "        \n",
    "        result = context.replace(HOLE, prediction)\n",
    "        result_filename = file.replace(\".\", eval_func.__name__+\".\")\n",
    "        write_result(PRED_DIR+result_filename,result)\n",
    "        \n",
    "        # Test result\n",
    "        process = sp.Popen([\"python\", PRED_DIR+result_filename], stdout=subprocess.PIPE, stderr=subprocess.PIPE)\n",
    "        stdout = str(process.communicate())\n",
    "        result_dict[TEST_DIR+file] = stdout\n",
    "        \n",
    "        if \"SyntaxError\" not in stdout:\n",
    "            compiled += 1\n",
    "            if \"Error\" not in stdout:\n",
    "                correct += 1\n",
    "                print(stdout)\n",
    "    return count, compiled, correct"
   ]
  },
  {
   "cell_type": "code",
   "execution_count": 55,
   "metadata": {},
   "outputs": [
    {
     "name": "stdout",
     "output_type": "stream",
     "text": [
      "(b'', b'')\n",
      "dummy.py  has no hole to predict\n",
      "(b'', b'')\n",
      "(b'', b'')\n",
      "(b'', b'')\n"
     ]
    },
    {
     "data": {
      "text/plain": [
       "(70, 5, 4)"
      ]
     },
     "execution_count": 55,
     "metadata": {},
     "output_type": "execute_result"
    }
   ],
   "source": [
    "test(sample)\n",
    "# result_dict"
   ]
  },
  {
   "cell_type": "code",
   "execution_count": null,
   "metadata": {},
   "outputs": [],
   "source": []
  }
 ],
 "metadata": {
  "kernelspec": {
   "display_name": "Python 3",
   "language": "python",
   "name": "python3"
  },
  "language_info": {
   "codemirror_mode": {
    "name": "ipython",
    "version": 3
   },
   "file_extension": ".py",
   "mimetype": "text/x-python",
   "name": "python",
   "nbconvert_exporter": "python",
   "pygments_lexer": "ipython3",
   "version": "3.6.6"
  }
 },
 "nbformat": 4,
 "nbformat_minor": 2
}
