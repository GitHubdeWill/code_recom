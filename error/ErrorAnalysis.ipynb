{
 "cells": [
  {
   "cell_type": "code",
   "execution_count": 38,
   "metadata": {},
   "outputs": [
    {
     "ename": "ModuleNotFoundError",
     "evalue": "No module named 'qwwerew'",
     "output_type": "error",
     "traceback": [
      "\u001b[0;31m-------------------------------------\u001b[0m",
      "\u001b[0;31mModuleNotFoundError\u001b[0mTraceback (most recent call last)",
      "\u001b[0;32m<ipython-input-38-b6b1d0765b1d>\u001b[0m in \u001b[0;36m<module>\u001b[0;34m\u001b[0m\n\u001b[1;32m     41\u001b[0m \u001b[0;34m\u001b[0m\u001b[0m\n\u001b[1;32m     42\u001b[0m \u001b[0;31m#         importlib.import_module(\"./Predicted_Results/\"+result_filename)\u001b[0m\u001b[0;34m\u001b[0m\u001b[0;34m\u001b[0m\u001b[0m\n\u001b[0;32m---> 43\u001b[0;31m         \u001b[0;32mimport\u001b[0m \u001b[0mdummy\u001b[0m\u001b[0;34m\u001b[0m\u001b[0m\n\u001b[0m\u001b[1;32m     44\u001b[0m \u001b[0;34m\u001b[0m\u001b[0m\n\u001b[1;32m     45\u001b[0m \u001b[0;31m#         py_compile.compile(prediction_dir+result_filename)\u001b[0m\u001b[0;34m\u001b[0m\u001b[0;34m\u001b[0m\u001b[0m\n",
      "\u001b[0;32m~/585/error/Test_Dataset/dummy.py\u001b[0m in \u001b[0;36m<module>\u001b[0;34m\u001b[0m\n\u001b[0;32m----> 1\u001b[0;31m \u001b[0;32mfrom\u001b[0m \u001b[0mqwwerew\u001b[0m \u001b[0;32mimport\u001b[0m \u001b[0;34m*\u001b[0m\u001b[0;34m\u001b[0m\u001b[0m\n\u001b[0m\u001b[1;32m      2\u001b[0m \u001b[0;32mdef\u001b[0m \u001b[0madd\u001b[0m \u001b[0;34m(\u001b[0m\u001b[0mx\u001b[0m\u001b[0;34m,\u001b[0m \u001b[0my\u001b[0m\u001b[0;34m)\u001b[0m\u001b[0;34m:\u001b[0m\u001b[0;34m\u001b[0m\u001b[0m\n\u001b[1;32m      3\u001b[0m     \u001b[0;32mreturn\u001b[0m \u001b[0mx\u001b[0m \u001b[0;34m+\u001b[0m \u001b[0my\u001b[0m\u001b[0;34m\u001b[0m\u001b[0m\n\u001b[1;32m      4\u001b[0m \u001b[0;32mif\u001b[0m \u001b[0m__name__\u001b[0m \u001b[0;34m==\u001b[0m \u001b[0;34m'__main__'\u001b[0m\u001b[0;34m:\u001b[0m\u001b[0;34m\u001b[0m\u001b[0m\n\u001b[1;32m      5\u001b[0m     \u001b[0mx\u001b[0m \u001b[0;34m=\u001b[0m \u001b[0;36m2\u001b[0m\u001b[0;34m\u001b[0m\u001b[0m\n",
      "\u001b[0;31mModuleNotFoundError\u001b[0m: No module named 'qwwerew'"
     ]
    }
   ],
   "source": [
    "import sys,os\n",
    "import py_compile\n",
    "import importlib\n",
    "\n",
    "import sys\n",
    "sys.path.insert(0, './Test_Dataset')\n",
    "\n",
    "HOLE = \"PREDICTION_HOLE_PLACEHOLDER\"\n",
    "testset_dir = \"./Test_Dataset/\"\n",
    "prediction_dir = \"./Predicted_Results/\"\n",
    "result_dict={}\n",
    "\n",
    "def write_result(path, file_name,res):\n",
    "    with open(path+file_name, 'w') as f:\n",
    "        f.write(res)\n",
    "\n",
    "# def predict_and_compile():\n",
    "HOLE = \"PREDICTION_HOLE_PLACEHOLDER\"\n",
    "testset_dir = \"./Test_Dataset/\"\n",
    "prediction_dir = \"./Predicted_Results/\"\n",
    "for file in os.listdir(testset_dir):\n",
    "    if(\"test_sample\" in file and \"original\" in file):\n",
    "        continue\n",
    "    if(file==\".ipynb_checkpoints\"):\n",
    "        continue\n",
    "    if(\"pycache\" in file):\n",
    "        continue\n",
    "    f = open(testset_dir+file)\n",
    "    context = f.read()\n",
    "    seen = context.split(HOLE)[0]\n",
    "    prediction = \"x\" \n",
    "    if(HOLE not in context):\n",
    "        print(file,\" has no hole to predict\")\n",
    "        continue\n",
    "    if(context.count(HOLE)>1): # test data only contain 1 hole now, change later\n",
    "        continue\n",
    "    result = context.replace(HOLE, prediction)\n",
    "    result_filename = file.replace(\".\",\"_result.\")\n",
    "    write_result(prediction_dir,result_filename,result)\n",
    "    try:\n",
    "        \n",
    "#         importlib.import_module(\"./Predicted_Results/\"+result_filename)\n",
    "        import dummy\n",
    "        \n",
    "#         py_compile.compile(prediction_dir+result_filename)\n",
    "#         result_f = open(prediction_dir+result_filename)\n",
    "        ## exec ?? ##\n",
    "        print(\"Prediction for \",file,\" is valid\")\n",
    "        result_dict[file]=\"VALID\"\n",
    "    except SyntaxError: \n",
    "        print(\"Prediction for \",file,\" is invalid\")\n",
    "        result_dict[file]=\"INVALID\"\n",
    "        print(\"invalid\")\n",
    "\n",
    "# predict_and_compile()\n",
    "            \n",
    "# py_compile.compile(testset_dir+\"dummy.py\")\n",
    "# f = open(testset_dir+\"dummy.py\")\n",
    "\n",
    "\n",
    "# try:\n",
    "#     exec(result)\n",
    "# except:\n",
    "#     print(\"invalid\")\n",
    "    \n",
    "\n",
    "\n"
   ]
  },
  {
   "cell_type": "code",
   "execution_count": null,
   "metadata": {},
   "outputs": [],
   "source": []
  },
  {
   "cell_type": "code",
   "execution_count": null,
   "metadata": {},
   "outputs": [],
   "source": []
  },
  {
   "cell_type": "code",
   "execution_count": null,
   "metadata": {},
   "outputs": [],
   "source": []
  }
 ],
 "metadata": {
  "kernelspec": {
   "display_name": "Python 3",
   "language": "python",
   "name": "python3"
  },
  "language_info": {
   "codemirror_mode": {
    "name": "ipython",
    "version": 3
   },
   "file_extension": ".py",
   "mimetype": "text/x-python",
   "name": "python",
   "nbconvert_exporter": "python",
   "pygments_lexer": "ipython3",
   "version": "3.6.6"
  }
 },
 "nbformat": 4,
 "nbformat_minor": 2
}
